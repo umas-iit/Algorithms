{
  "nbformat": 4,
  "nbformat_minor": 0,
  "metadata": {
    "colab": {
      "name": "0.11_InsertionSort.ipynb",
      "provenance": [],
      "authorship_tag": "ABX9TyNRKNLbGtROat71h8ztl8pQ",
      "include_colab_link": true
    },
    "kernelspec": {
      "name": "python3",
      "display_name": "Python 3"
    },
    "language_info": {
      "name": "python"
    }
  },
  "cells": [
    {
      "cell_type": "markdown",
      "metadata": {
        "id": "view-in-github",
        "colab_type": "text"
      },
      "source": [
        "<a href=\"https://colab.research.google.com/github/umas-iit/Algorithms/blob/main/0_11_InsertionSort.ipynb\" target=\"_parent\"><img src=\"https://colab.research.google.com/assets/colab-badge.svg\" alt=\"Open In Colab\"/></a>"
      ]
    },
    {
      "cell_type": "code",
      "metadata": {
        "id": "eWecFU3IHzbi"
      },
      "source": [
        ""
      ],
      "execution_count": null,
      "outputs": []
    },
    {
      "cell_type": "markdown",
      "metadata": {
        "id": "65-q8BXJH0IX"
      },
      "source": [
        "## Insertion Sort\n",
        "\n",
        "Picks one item of a given list at the time and places at the exact spot where it is to be placed"
      ]
    },
    {
      "cell_type": "code",
      "metadata": {
        "colab": {
          "base_uri": "https://localhost:8080/"
        },
        "id": "EDB-uIlhIGwx",
        "outputId": "1904624d-90b2-4227-b34c-2787b900e964"
      },
      "source": [
        "def bubble_sort(ourlist): # I create my function bubble_sort with the argument called ourlist\n",
        "    b=len(ourlist)-1 # for every list, I will have a minus 1 iteration\n",
        "    for x in range(b): # for each element in the range of b, I check if they are ordered or not\n",
        "        for y in range(b-x): \n",
        "            if ourlist[y]>ourlist[y+1]: # if one element is greater than the nearest elemnt in the list\n",
        "                ourlist[y],ourlist[y+1]=ourlist[y+1],ourlist[y] # I have to swap the elemnts, in other words\n",
        "                                                          # I exchange the position of the two elements\n",
        "        return ourlist\n",
        "    \n",
        "ourlist=[15,1,9,3]\n",
        "bubble_sort(ourlist)"
      ],
      "execution_count": 1,
      "outputs": [
        {
          "output_type": "execute_result",
          "data": {
            "text/plain": [
              "[1, 9, 3, 15]"
            ]
          },
          "metadata": {
            "tags": []
          },
          "execution_count": 1
        }
      ]
    },
    {
      "cell_type": "code",
      "metadata": {
        "id": "8LapfX3oIH72"
      },
      "source": [
        ""
      ],
      "execution_count": null,
      "outputs": []
    }
  ]
}