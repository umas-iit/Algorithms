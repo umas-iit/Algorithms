{
  "nbformat": 4,
  "nbformat_minor": 0,
  "metadata": {
    "colab": {
      "name": "0.3_Set.ipynb",
      "provenance": [],
      "authorship_tag": "ABX9TyNM6/q5dBe+Hohf8QPuX+j5",
      "include_colab_link": true
    },
    "kernelspec": {
      "name": "python3",
      "display_name": "Python 3"
    },
    "language_info": {
      "name": "python"
    }
  },
  "cells": [
    {
      "cell_type": "markdown",
      "metadata": {
        "id": "view-in-github",
        "colab_type": "text"
      },
      "source": [
        "<a href=\"https://colab.research.google.com/github/umas-iit/Algorithms/blob/main/0_3_Set.ipynb\" target=\"_parent\"><img src=\"https://colab.research.google.com/assets/colab-badge.svg\" alt=\"Open In Colab\"/></a>"
      ]
    },
    {
      "cell_type": "code",
      "metadata": {
        "id": "nLQniI1BAedK"
      },
      "source": [
        ""
      ],
      "execution_count": null,
      "outputs": []
    },
    {
      "cell_type": "markdown",
      "metadata": {
        "id": "Z-pGTHE2Ag5N"
      },
      "source": [
        "## Set\n",
        "Set is a mutable and unordered collection of unique elements. It can permit us to remove duplicate quickly from a list."
      ]
    },
    {
      "cell_type": "code",
      "metadata": {
        "colab": {
          "base_uri": "https://localhost:8080/"
        },
        "id": "LKWSKvzbAj7v",
        "outputId": "16598020-8bc5-4e2d-b412-c7536cd537a1"
      },
      "source": [
        "numbers = [1, 2, 6, 3, 1, 1, 5] \n",
        "\n",
        "unique_nums = set(numbers)\n",
        "print(unique_nums)\n",
        "\n",
        "\n",
        "artist = {'Chagall', 'Kandinskij', 'Dalí', 'da Vinci', 'Picasso', 'Warhol', 'Basquiat'}\n",
        "\n",
        "print('Turner' in artist) # check if there is Turner in the set artist\n",
        "artist.add('Turner')\n",
        "print(artist.pop()) #remove the last item"
      ],
      "execution_count": 1,
      "outputs": [
        {
          "output_type": "stream",
          "text": [
            "{1, 2, 3, 5, 6}\n",
            "False\n",
            "Turner\n"
          ],
          "name": "stdout"
        }
      ]
    },
    {
      "cell_type": "code",
      "metadata": {
        "id": "rU6WBt2rAxHL"
      },
      "source": [
        ""
      ],
      "execution_count": null,
      "outputs": []
    }
  ]
}