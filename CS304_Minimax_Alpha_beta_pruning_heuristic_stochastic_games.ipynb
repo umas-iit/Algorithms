{
  "nbformat": 4,
  "nbformat_minor": 0,
  "metadata": {
    "colab": {
      "provenance": [],
      "authorship_tag": "ABX9TyM2noiz+nTTsXohMOps9bay",
      "include_colab_link": true
    },
    "kernelspec": {
      "name": "python3",
      "display_name": "Python 3"
    },
    "language_info": {
      "name": "python"
    }
  },
  "cells": [
    {
      "cell_type": "markdown",
      "metadata": {
        "id": "view-in-github",
        "colab_type": "text"
      },
      "source": [
        "<a href=\"https://colab.research.google.com/github/umas-iit/Algorithms/blob/main/CS304_Minimax_Alpha_beta_pruning_heuristic_stochastic_games.ipynb\" target=\"_parent\"><img src=\"https://colab.research.google.com/assets/colab-badge.svg\" alt=\"Open In Colab\"/></a>"
      ]
    },
    {
      "cell_type": "markdown",
      "source": [
        "### Minimax-Alpha-beta-pruning-heuristic-stochastic games"
      ],
      "metadata": {
        "id": "hIk_lL_hs7pR"
      }
    },
    {
      "cell_type": "code",
      "source": [
        "# Initialize an empty 3x3 Tic-Tac-Toe board\n",
        "board = [[' ', ' ', ' '],\n",
        "         [' ', ' ', ' '],\n",
        "         [' ', ' ', ' ']]"
      ],
      "metadata": {
        "id": "YX7_u2J1tBRm"
      },
      "execution_count": 1,
      "outputs": []
    },
    {
      "cell_type": "markdown",
      "source": [
        "## Step 1:\n",
        "**1. generate_moves(board):** This function generates all possible moves on the board by iterating over each cell. If a cell is empty, its coordinates (i, j) are added to the list of moves. The function returns a list of available moves."
      ],
      "metadata": {
        "id": "mLYulbeDtRIU"
      }
    },
    {
      "cell_type": "code",
      "source": [
        "def generate_moves(board):\n",
        "    moves = []\n",
        "    for i in range(3):\n",
        "        for j in range(3):\n",
        "            if board[i][j] == ' ':\n",
        "                moves.append((i, j))\n",
        "    return moves"
      ],
      "metadata": {
        "id": "NCNxuwritRbQ"
      },
      "execution_count": 2,
      "outputs": []
    },
    {
      "cell_type": "markdown",
      "source": [
        "## Step 2\n",
        "2.**evaluate_state(board):** This function evaluates the current state of the board and determines if there is a winner or if the game is a draw. It checks for winning conditions in rows, columns, and diagonals. If ‘X’ wins, it returns 1; if ‘O’ wins, it returns -1; if the game is a draw, it returns 0."
      ],
      "metadata": {
        "id": "stcU5EjEtfZL"
      }
    },
    {
      "cell_type": "code",
      "source": [
        "def evaluate_state(board):\n",
        "    # Check rows\n",
        "    for i in range(3):\n",
        "        if board[i][0] == board[i][1] == board[i][2] != ' ':\n",
        "            return 1 if board[i][0] == 'X' else -1\n",
        "\n",
        "    # Check columns\n",
        "    for j in range(3):\n",
        "        if board[0][j] == board[1][j] == board[2][j] != ' ':\n",
        "            return 1 if board[0][j] == 'X' else -1\n",
        "\n",
        "    # Check diagonals\n",
        "    if board[0][0] == board[1][1] == board[2][2] != ' ':\n",
        "        return 1 if board[0][0] == 'X' else -1\n",
        "\n",
        "    if board[0][2] == board[1][1] == board[2][0] != ' ':\n",
        "        return 1 if board[0][2] == 'X' else -1\n",
        "\n",
        "    # No winner, game is a draw\n",
        "    return 0"
      ],
      "metadata": {
        "id": "CEF0zMDXtqpd"
      },
      "execution_count": 3,
      "outputs": []
    },
    {
      "cell_type": "markdown",
      "source": [
        "## step 3:\n",
        "**3.alpha_beta_search(board, depth, player, alpha, beta):** This is the main function implementing the minimax algorithm with alpha-beta pruning. It recursively searches the game tree up to a specified depth. The function takes the current board state, the depth of the search, the current player, and the alpha and beta values for pruning as input. The base cases for the recursion are when the game state is evaluated (a winner is found or maximum depth is reached). In each recursive call, the function generates all available moves, evaluates the resulting states, and updates the best score and move according to the minimax algorithm. Alpha and beta values are used to perform alpha-beta pruning, which prunes branches that are guaranteed to be worse than previously explored branches."
      ],
      "metadata": {
        "id": "qbIjwGhBtveG"
      }
    },
    {
      "cell_type": "code",
      "source": [
        "def alpha_beta_search(board, depth, player, alpha, beta):\n",
        "    # Base cases: evaluate the game state\n",
        "    score = evaluate_state(board)\n",
        "    if score != 0 or depth == 0:\n",
        "        return score\n",
        "\n",
        "    moves = generate_moves(board)\n",
        "    best_score = float('-inf') if player == 'X' else float('inf')\n",
        "    best_move = None\n",
        "\n",
        "    for move in moves:\n",
        "        i, j = move\n",
        "        board[i][j] = player\n",
        "\n",
        "        if player == 'X':\n",
        "            score = alpha_beta_search(board, depth - 1, 'O', alpha, beta)\n",
        "            if score > best_score:\n",
        "                best_score = score\n",
        "                best_move = move\n",
        "                alpha = max(alpha, best_score)\n",
        "        else:\n",
        "            score = alpha_beta_search(board, depth - 1, 'X', alpha, beta)\n",
        "            if score < best_score:\n",
        "                best_score = score\n",
        "                best_move = move\n",
        "                beta = min(beta, best_score)\n",
        "\n",
        "        board[i][j] = ' '  # Undo the move\n",
        "\n",
        "        if alpha >= beta:\n",
        "            break  # Beta cutoff (pruning)\n",
        "\n",
        "    if depth == MAX_DEPTH:\n",
        "        return best_move\n",
        "    else:\n",
        "        return best_score\n"
      ],
      "metadata": {
        "id": "1_cFYDNQt2mV"
      },
      "execution_count": 4,
      "outputs": []
    },
    {
      "cell_type": "markdown",
      "source": [
        "### Step 4:\n",
        "**4.play_game():** This function is responsible for running the Tic-Tac-Toe game. It initializes the board and sets the starting player to ‘X’. It enters a loop that continues until there is a winner or no more moves are available. In each iteration, it alternates between the human player (‘X’) and the AI player (‘O’). The human player is prompted to enter their move coordinates, which are validated and applied to the board. The AI player’s move is determined by calling the alpha_beta_search function with the current board state and other parameters. After each move, the current board state is printed. Once the game is over, the final state is evaluated, and the result (win, loss, or draw) is displayed."
      ],
      "metadata": {
        "id": "uHRGGTYYt77-"
      }
    },
    {
      "cell_type": "code",
      "source": [
        "MAX_DEPTH = 9  # Maximum search depth (full game tree)\n",
        "\n",
        "def play_game():\n",
        "    board = [[' ', ' ', ' '], [' ', ' ', ' '], [' ', ' ', ' ']]\n",
        "    player = 'X'\n",
        "\n",
        "    while evaluate_state(board) == 0 and generate_moves(board):\n",
        "        if player == 'X':\n",
        "            print(\"Player X's turn:\")\n",
        "            move = input(\"Enter the row and column (e.g., 0 1): \")\n",
        "            try:\n",
        "                i, j = map(int, move.split())\n",
        "                if 0 <= i < 3 and 0 <= j < 3 and board[i][j] == ' ':\n",
        "                    board[i][j] = player\n",
        "                    player = 'O'\n",
        "                else:\n",
        "                    print(\"Invalid move. Try again.\")\n",
        "                    continue\n",
        "            except ValueError:\n",
        "                print(\"Invalid input format. Try again.\")\n",
        "                continue\n",
        "        else:\n",
        "            print(\"AI's turn (Player O):\")\n",
        "            best_move = alpha_beta_search(board, MAX_DEPTH, 'O', float('-inf'), float('inf'))\n",
        "            i, j = best_move\n",
        "            board[i][j] = player\n",
        "            player = 'X'\n",
        "\n",
        "        # Print the current board state\n",
        "        for row in board:\n",
        "            print(' | '.join(row))\n",
        "            print('---------')\n",
        "\n",
        "    # Game over, evaluate the final state\n",
        "    score = evaluate_state(board)\n",
        "    if score == 1:\n",
        "        print(\"Player X wins!\")\n",
        "    elif score == -1:\n",
        "        print(\"Player O wins!\")\n",
        "    else:\n",
        "        print(\"It's a draw!\")\n",
        "\n",
        "play_game()"
      ],
      "metadata": {
        "colab": {
          "base_uri": "https://localhost:8080/"
        },
        "id": "ZuencJ5ouCNk",
        "outputId": "3f7e0c58-4411-48cd-9240-8efb6108ff04"
      },
      "execution_count": 5,
      "outputs": [
        {
          "output_type": "stream",
          "name": "stdout",
          "text": [
            "Player X's turn:\n",
            "Enter the row and column (e.g., 0 1): 0 1\n",
            "  | X |  \n",
            "---------\n",
            "  |   |  \n",
            "---------\n",
            "  |   |  \n",
            "---------\n",
            "AI's turn (Player O):\n",
            "O | X |  \n",
            "---------\n",
            "  |   |  \n",
            "---------\n",
            "  |   |  \n",
            "---------\n",
            "Player X's turn:\n",
            "Enter the row and column (e.g., 0 1): 2 2\n",
            "O | X |  \n",
            "---------\n",
            "  |   |  \n",
            "---------\n",
            "  |   | X\n",
            "---------\n",
            "AI's turn (Player O):\n",
            "O | X | O\n",
            "---------\n",
            "  |   |  \n",
            "---------\n",
            "  |   | X\n",
            "---------\n",
            "Player X's turn:\n",
            "Enter the row and column (e.g., 0 1): 3 1\n",
            "Invalid move. Try again.\n",
            "Player X's turn:\n",
            "Enter the row and column (e.g., 0 1): 1 2\n",
            "O | X | O\n",
            "---------\n",
            "  |   | X\n",
            "---------\n",
            "  |   | X\n",
            "---------\n",
            "AI's turn (Player O):\n",
            "O | X | O\n",
            "---------\n",
            "  |   | X\n",
            "---------\n",
            "O |   | X\n",
            "---------\n",
            "Player X's turn:\n",
            "Enter the row and column (e.g., 0 1): 1 1\n",
            "O | X | O\n",
            "---------\n",
            "  | X | X\n",
            "---------\n",
            "O |   | X\n",
            "---------\n",
            "AI's turn (Player O):\n",
            "O | X | O\n",
            "---------\n",
            "O | X | X\n",
            "---------\n",
            "O |   | X\n",
            "---------\n",
            "Player O wins!\n"
          ]
        }
      ]
    },
    {
      "cell_type": "markdown",
      "source": [],
      "metadata": {
        "id": "ZW3y3sbXuatE"
      }
    }
  ]
}