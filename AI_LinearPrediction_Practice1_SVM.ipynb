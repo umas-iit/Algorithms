{
  "nbformat": 4,
  "nbformat_minor": 0,
  "metadata": {
    "colab": {
      "provenance": [],
      "authorship_tag": "ABX9TyMSKpEy9yjRwo+0Hxz9XWaS",
      "include_colab_link": true
    },
    "kernelspec": {
      "name": "python3",
      "display_name": "Python 3"
    },
    "language_info": {
      "name": "python"
    }
  },
  "cells": [
    {
      "cell_type": "markdown",
      "metadata": {
        "id": "view-in-github",
        "colab_type": "text"
      },
      "source": [
        "<a href=\"https://colab.research.google.com/github/umas-iit/Algorithms/blob/main/AI_LinearPrediction_Practice1_SVM.ipynb\" target=\"_parent\"><img src=\"https://colab.research.google.com/assets/colab-badge.svg\" alt=\"Open In Colab\"/></a>"
      ]
    },
    {
      "cell_type": "code",
      "execution_count": null,
      "metadata": {
        "id": "GVb0vCvCeGcN"
      },
      "outputs": [],
      "source": []
    },
    {
      "cell_type": "markdown",
      "source": [
        "Suppose we have the following training data:\n",
        "\n",
        "* Student 1: [hours_studied = 5, previous_scores = 85] - Pass\n",
        "* Student 2: [hours_studied = 3, previous_scores = 60] - Fail\n",
        "* Student 3: [hours_studied = 8, previous_scores = 90] - Pass\n",
        "* Student 4: [hours_studied = 1, previous_scores = 30] - Fail\n",
        "* Student 5: [hours_studied = 7, previous_scores = 75] - Pass\n",
        "\n",
        "Now, we need to convert the feature vectors φ(x) into numerical values and assign labels to them. Let's use +1 for \"Pass\" and -1 for \"Fail.\"\n",
        "\n",
        "Training Data:\n",
        "\n",
        "Feature Vectors:\n",
        "* φ(Student 1) = [5, 85]\n",
        "* φ(Student 2) = [3, 60]\n",
        "* φ(Student 3) = [8, 90]\n",
        "* φ(Student 4) = [1, 30]\n",
        "* φ(Student 5) = [7, 75]\n",
        "\n",
        "Labels:\n",
        "* Student 1: +1 (Pass)\n",
        "* Student 2: -1 (Fail)\n",
        "* Student 3: +1 (Pass)\n",
        "* Student 4: -1 (Fail)\n",
        "* Student 5: +1 (Pass)\n",
        "\n",
        "\n",
        "Now, we can use the SVM algorithm to find the optimal weight vector w that separates the two classes \"Pass\" and \"Fail\" with the maximum margin. I'll provide the final weight vector w, but please note that SVM training involves solving an optimization problem, and there are various algorithms to achieve this.\n",
        "\n",
        "After training, let's say the optimal weight vector w is found to be [0.1, 0.2].\n",
        "\n",
        "To classify new students using the learned SVM model, we use the following decision rule:\n",
        "\n",
        "For a given feature vector φ(x), if the dot product of the weight vector w and the feature vector φ(x) is positive, the student is predicted to \"Pass.\" If it's negative, the student is predicted to \"Fail.\"\n",
        "\n",
        "For example, let's classify a new student with the following features:\n",
        "\n",
        "* New Student: [hours_studied = 6, previous_scores = 70]\n",
        "* Feature Vector: φ(New Student) = [6, 70]\n",
        "\n",
        "Now, we calculate the dot product of the weight vector w and the feature vector φ(New Student):\n",
        "\n",
        "* w · φ(New Student) = [0.1, 0.2] · [6, 70] = (0.1 * 6) + (0.2 * 70) = 1.2 + 14 = 15.2\n",
        "* Since the dot product is positive (15.2 > 0), we predict that the new student will \"Pass.\"\n",
        "\n",
        "This is how we can apply the SVM method for the given example and complete the training to predict whether a student will \"Pass\" or \"Fail\" based on their features.\n"
      ],
      "metadata": {
        "id": "9zxvE3dwej63"
      }
    },
    {
      "cell_type": "code",
      "source": [
        "# Importing the required libraries\n",
        "import numpy as np\n",
        "from sklearn.svm import SVC\n",
        "\n",
        "# Training data: Feature vectors and corresponding labels\n",
        "X_train = np.array([[5, 85], [3, 60], [8, 90], [1, 30], [7, 75]])\n",
        "y_train = np.array([1, -1, 1, -1, 1])\n",
        "\n",
        "# Create an instance of the SVM classifier\n",
        "svm_classifier = SVC(kernel='linear')\n",
        "\n",
        "# Train the SVM classifier on the training data\n",
        "svm_classifier.fit(X_train, y_train)\n",
        "\n",
        "# New student's features for prediction\n",
        "new_student_features = np.array([[6, 70]])\n",
        "\n",
        "# Predict the label for the new student using the trained SVM model\n",
        "prediction = svm_classifier.predict(new_student_features)\n",
        "\n",
        "# Mapping the predicted label to 'Pass' or 'Fail'\n",
        "prediction_label = \"Pass\" if prediction[0] == 1 else \"Fail\"\n",
        "\n",
        "print(\"Predicted label for the new student: \", prediction_label)\n"
      ],
      "metadata": {
        "colab": {
          "base_uri": "https://localhost:8080/"
        },
        "id": "U-qZe2fheLYx",
        "outputId": "e120b3ec-8fdc-4496-c9b3-5e8499e20224"
      },
      "execution_count": null,
      "outputs": [
        {
          "output_type": "stream",
          "name": "stdout",
          "text": [
            "Predicted label for the new student:  Pass\n"
          ]
        }
      ]
    },
    {
      "cell_type": "markdown",
      "source": [],
      "metadata": {
        "id": "J_KvafKJeTho"
      }
    }
  ]
}