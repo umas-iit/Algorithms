{
  "nbformat": 4,
  "nbformat_minor": 0,
  "metadata": {
    "colab": {
      "name": "0_6_Stacks.ipynb",
      "provenance": [],
      "authorship_tag": "ABX9TyMa7tIEnDKOvqKr/yuCNxYT",
      "include_colab_link": true
    },
    "kernelspec": {
      "name": "python3",
      "display_name": "Python 3"
    },
    "language_info": {
      "name": "python"
    }
  },
  "cells": [
    {
      "cell_type": "markdown",
      "metadata": {
        "id": "view-in-github",
        "colab_type": "text"
      },
      "source": [
        "<a href=\"https://colab.research.google.com/github/umas-iit/Algorithms/blob/main/0_6_Stacks.ipynb\" target=\"_parent\"><img src=\"https://colab.research.google.com/assets/colab-badge.svg\" alt=\"Open In Colab\"/></a>"
      ]
    },
    {
      "cell_type": "code",
      "metadata": {
        "id": "9kcj3NHRBnGv"
      },
      "source": [
        ""
      ],
      "execution_count": null,
      "outputs": []
    },
    {
      "cell_type": "markdown",
      "metadata": {
        "id": "UKiDpvEdBn53"
      },
      "source": [
        "## User Defined Data Structures"
      ]
    },
    {
      "cell_type": "markdown",
      "metadata": {
        "id": "Q111MdOlB5oT"
      },
      "source": [
        "## Stack using arrays\n",
        "The stack is a linear data structure where elements are arranged sequentially. It follows the mechanism L.I.F.O which means last in first out. So, the last element inserted will be removed as the first. The operations are:\n",
        "1. Push → inserting an element into the stack\n",
        "2. Pop → deleting an element from the stack\n",
        "\n",
        "The conditions to check:\n",
        "\n",
        "1. overflow condition → this condition occurs when we try to put one more element into a stack that is already having maximum elements.\n",
        "\n",
        "2. underflow condition →this condition occurs when we try to delete an element from an empty stack.\n"
      ]
    },
    {
      "cell_type": "code",
      "metadata": {
        "colab": {
          "base_uri": "https://localhost:8080/"
        },
        "id": "n6o82Nh8CI9I",
        "outputId": "96bb4acd-b257-467b-a99c-82eb3cc7db8d"
      },
      "source": [
        "class mystack:\n",
        "    \n",
        "    def __init__(self):\n",
        "        self.data =[]\n",
        "        \n",
        "    def length(self): #length of the list\n",
        "        return len(self.data)\n",
        "    \n",
        "    def is_full(self): #check if the list is full or not\n",
        "        if len(self.data) == 5:\n",
        "            return True\n",
        "        else:\n",
        "            return False\n",
        "        \n",
        "    def push(self, element):# insert a new element\n",
        "        if len(self.data) < 5:\n",
        "            self.data.append(element)\n",
        "        else:\n",
        "            return \"overflow\"\n",
        "        \n",
        "    def pop(self): # # remove the last element from a list\n",
        "        if len(self.data) == 0:\n",
        "            return \"underflow\"\n",
        "        else:\n",
        "            return self.data.pop()\n",
        "\n",
        "a = mystack() # I create my object\n",
        "a.push(10) # insert the  element\n",
        "a.push(23)\n",
        "a.push(25)\n",
        "a.push(27)\n",
        "a.push(11)\n",
        "print(a.length())\n",
        "print(a.is_full())\n",
        "print(a.data)\n",
        "print(a.push(31)) # we try to insert one more element in the list - the output will be overflow\n",
        "print(a.pop())\n",
        "print(a.pop())\n",
        "print(a.pop())\n",
        "print(a.pop())\n",
        "print(a.pop())\n",
        "print(a.pop()) # try to delete an element in a list without elements - the output will be underflow\n",
        " "
      ],
      "execution_count": 2,
      "outputs": [
        {
          "output_type": "stream",
          "text": [
            "5\n",
            "True\n",
            "[10, 23, 25, 27, 11]\n",
            "overflow\n",
            "11\n",
            "27\n",
            "25\n",
            "23\n",
            "10\n",
            "underflow\n"
          ],
          "name": "stdout"
        }
      ]
    },
    {
      "cell_type": "code",
      "metadata": {
        "id": "7e6xq7YHCKRa"
      },
      "source": [
        ""
      ],
      "execution_count": null,
      "outputs": []
    }
  ]
}