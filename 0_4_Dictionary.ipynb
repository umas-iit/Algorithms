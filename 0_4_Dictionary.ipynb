{
  "nbformat": 4,
  "nbformat_minor": 0,
  "metadata": {
    "colab": {
      "name": "0.4_Dictionary.ipynb",
      "provenance": [],
      "authorship_tag": "ABX9TyNwi1OjboacbF0hXnuV/V0O",
      "include_colab_link": true
    },
    "kernelspec": {
      "name": "python3",
      "display_name": "Python 3"
    },
    "language_info": {
      "name": "python"
    }
  },
  "cells": [
    {
      "cell_type": "markdown",
      "metadata": {
        "id": "view-in-github",
        "colab_type": "text"
      },
      "source": [
        "<a href=\"https://colab.research.google.com/github/umas-iit/Algorithms/blob/main/0_4_Dictionary.ipynb\" target=\"_parent\"><img src=\"https://colab.research.google.com/assets/colab-badge.svg\" alt=\"Open In Colab\"/></a>"
      ]
    },
    {
      "cell_type": "code",
      "metadata": {
        "id": "a353tWw_BGes"
      },
      "source": [
        ""
      ],
      "execution_count": null,
      "outputs": []
    },
    {
      "cell_type": "markdown",
      "metadata": {
        "id": "vzFSVrZzBHJH"
      },
      "source": [
        "## Dictionary\n",
        "\n",
        "Dictionary is a mutable and unordered data structure. It permits storing a pair of items (i.e. keys and values).\n",
        "As the example below shows, in the dictionary, it is possible to include containers into other containers to create compound data structures."
      ]
    },
    {
      "cell_type": "code",
      "metadata": {
        "colab": {
          "base_uri": "https://localhost:8080/"
        },
        "id": "jO-RMdkvBNLd",
        "outputId": "41dccfd7-d521-475c-dd7b-3fd56e43593c"
      },
      "source": [
        "music = { 'jazz': {\"Coltrane\": \"In a Sentimental Mood\",\n",
        "                          \"M.Davis\":\"Blue in Green\" ,\n",
        "                          \"T.Monk\":\"Don't Blame Me\"},\n",
        "            \"classical\" : {\"Bach\": \"Cello Suit\",\n",
        "                        \"Mozart\": \"Lacrimosa\",\n",
        "                        \"Satie\": \"Gymnopédie\"}}\n",
        "\n",
        "print(music[\"jazz\"][\"Coltrane\"]) # we select the value of the key Coltrane\n",
        "print(music[\"classical\"][\"Mozart\"])"
      ],
      "execution_count": 1,
      "outputs": [
        {
          "output_type": "stream",
          "text": [
            "In a Sentimental Mood\n",
            "Lacrimosa\n"
          ],
          "name": "stdout"
        }
      ]
    },
    {
      "cell_type": "code",
      "metadata": {
        "id": "JK6sxugvBRmF"
      },
      "source": [
        ""
      ],
      "execution_count": null,
      "outputs": []
    }
  ]
}