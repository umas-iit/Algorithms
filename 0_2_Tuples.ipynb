{
  "nbformat": 4,
  "nbformat_minor": 0,
  "metadata": {
    "colab": {
      "name": "0.2_Tuples.ipynb",
      "provenance": [],
      "authorship_tag": "ABX9TyMZ2TruS7qNo76KiwfiXRu6",
      "include_colab_link": true
    },
    "kernelspec": {
      "name": "python3",
      "display_name": "Python 3"
    },
    "language_info": {
      "name": "python"
    }
  },
  "cells": [
    {
      "cell_type": "markdown",
      "metadata": {
        "id": "view-in-github",
        "colab_type": "text"
      },
      "source": [
        "<a href=\"https://colab.research.google.com/github/umas-iit/Algorithms/blob/main/0_2_Tuples.ipynb\" target=\"_parent\"><img src=\"https://colab.research.google.com/assets/colab-badge.svg\" alt=\"Open In Colab\"/></a>"
      ]
    },
    {
      "cell_type": "code",
      "metadata": {
        "id": "D84QAzqk_vbs"
      },
      "source": [
        "\n"
      ],
      "execution_count": null,
      "outputs": []
    },
    {
      "cell_type": "markdown",
      "metadata": {
        "id": "w_XtDXBV_2u-"
      },
      "source": [
        "### Tuple\n",
        "A tuple is another container. It is a data type for immutable ordered sequences of elements.\n",
        "Immutable because you can’t add and remove elements from tuples, or sort them in place."
      ]
    },
    {
      "cell_type": "code",
      "metadata": {
        "colab": {
          "base_uri": "https://localhost:8080/"
        },
        "id": "gZOzuHN5AEO5",
        "outputId": "571606d0-9f0e-44d8-8796-16fa8d40de8d"
      },
      "source": [
        "length, width, height = 7, 3, 1 # we can assign multiple varibles in one shot\n",
        "print(\"The dimensions are {} x {} x {}\".format(length, width, height))"
      ],
      "execution_count": 1,
      "outputs": [
        {
          "output_type": "stream",
          "text": [
            "The dimensions are 7 x 3 x 1\n"
          ],
          "name": "stdout"
        }
      ]
    },
    {
      "cell_type": "code",
      "metadata": {
        "id": "5LNBHAozAFGd"
      },
      "source": [
        ""
      ],
      "execution_count": null,
      "outputs": []
    }
  ]
}