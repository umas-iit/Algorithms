{
  "nbformat": 4,
  "nbformat_minor": 0,
  "metadata": {
    "colab": {
      "name": "0.0_Algorithm_Overview.ipynb",
      "provenance": [],
      "authorship_tag": "ABX9TyP299qb/cTFkzqfTvZAPS9X",
      "include_colab_link": true
    },
    "kernelspec": {
      "name": "python3",
      "display_name": "Python 3"
    },
    "language_info": {
      "name": "python"
    }
  },
  "cells": [
    {
      "cell_type": "markdown",
      "metadata": {
        "id": "view-in-github",
        "colab_type": "text"
      },
      "source": [
        "<a href=\"https://colab.research.google.com/github/umas-iit/Algorithms/blob/main/0_0_Algorithm_Overview.ipynb\" target=\"_parent\"><img src=\"https://colab.research.google.com/assets/colab-badge.svg\" alt=\"Open In Colab\"/></a>"
      ]
    },
    {
      "cell_type": "markdown",
      "metadata": {
        "id": "NuoOEj0jOWvc"
      },
      "source": [
        "\n",
        "\n",
        "## Introduction\n",
        "The purpose of this article is to give you a panorama of data structures and algorithms in Python. \n",
        "\n",
        "This topic is very important for a Data Scientist in order to help him or her to design and solve machine learning models in a more effective way.\n",
        "We will see together with practical examples the built-in data structures, the user-defined data structures, and last but not least I will introduce you to some algorithms like traversal algorithms, sorting algorithms, and searching algorithms.\n",
        "\n"
      ]
    },
    {
      "cell_type": "markdown",
      "metadata": {
        "id": "JmJAB5pLO4Ig"
      },
      "source": [
        "## Part I: Bult-in Data Structures\n",
        "\n",
        "Data structures allow us to organize, store, and manage data for efficient access and modification.\n",
        "\n",
        "There are four types of built-in data structures in Python: list, tuple, set, and dictionary."
      ]
    },
    {
      "cell_type": "markdown",
      "metadata": {
        "id": "hu2iw7v8Pjwp"
      },
      "source": [
        "## Lists :\n",
        "* List is mutable and Ordered\n",
        "* Contains mix of different data types\n"
      ]
    },
    {
      "cell_type": "code",
      "metadata": {
        "colab": {
          "base_uri": "https://localhost:8080/"
        },
        "id": "wGgxRDAwPWeb",
        "outputId": "0818aea8-1a3c-49ac-da06-523c05d6517a"
      },
      "source": [
        "months = ['january','february','march','april','may','june','july','august','september','october','november','december']\n",
        "print(months[0]) # print the elemment with index 0\n",
        "print(months[0:7]) # all the elements from index 0 to 6.\n",
        "months[0] = 'birthday' # exchange the value in index 0 with the word birthday\n",
        "print(months)"
      ],
      "execution_count": 6,
      "outputs": [
        {
          "output_type": "stream",
          "text": [
            "january\n",
            "['january', 'february', 'march', 'april', 'may', 'june', 'july']\n",
            "['birthday', 'february', 'march', 'april', 'may', 'june', 'july', 'august', 'september', 'october', 'november', 'december']\n"
          ],
          "name": "stdout"
        }
      ]
    },
    {
      "cell_type": "markdown",
      "metadata": {
        "id": "ReLPOlI5QIkg"
      },
      "source": [
        "### Function in Lists:\n"
      ]
    },
    {
      "cell_type": "code",
      "metadata": {
        "colab": {
          "base_uri": "https://localhost:8080/"
        },
        "id": "B49kUxhvQNXt",
        "outputId": "da28196d-8e93-4081-a136-072d1406939e"
      },
      "source": [
        "# Join is a string method that takes a list of strings as an argument, \n",
        "# and returns a string consisting of the list elements joined by a separator string.\n",
        "\n",
        "first_str = \"\\n\".join([\"What\",\"is\",\"your\",\"life\",\"ambition\",\"?\"])\n",
        "second_str = \"-\".join([\"Why\",\" do\",\"we\",\"love to travel\",\"in our cars \",\"?\"])\n",
        "third_str = \" \".join([\"What\",\" is \",\"your\",\"home\",\"town\",\"?\"])\n",
        "\n",
        "print(first_str)\n",
        "print(second_str)\n",
        "print(third_str)"
      ],
      "execution_count": 5,
      "outputs": [
        {
          "output_type": "stream",
          "text": [
            "What\n",
            "is\n",
            "your\n",
            "life\n",
            "ambition\n",
            "?\n",
            "Why- do-we-love to travel-in our cars -?\n",
            "What  is  your home town ?\n"
          ],
          "name": "stdout"
        }
      ]
    },
    {
      "cell_type": "markdown",
      "metadata": {
        "id": "2U42KpVXRT-N"
      },
      "source": [
        "### List Append:"
      ]
    },
    {
      "cell_type": "code",
      "metadata": {
        "colab": {
          "base_uri": "https://localhost:8080/"
        },
        "id": "YQw-mDecRRdU",
        "outputId": "89af315f-46d3-4572-cd3e-b82695ee5ff5"
      },
      "source": [
        "artist = ['Chagall', 'Kandinskij', 'Dalí', 'da Vinci', 'Picasso', 'Warhol']\n",
        "\n",
        "artist.append('Basquiat') # append method permits us to add Basquiat in our list of artists\n",
        "print(artist)"
      ],
      "execution_count": 7,
      "outputs": [
        {
          "output_type": "stream",
          "text": [
            "['Chagall', 'Kandinskij', 'Dalí', 'da Vinci', 'Picasso', 'Warhol', 'Basquiat']\n"
          ],
          "name": "stdout"
        }
      ]
    },
    {
      "cell_type": "code",
      "metadata": {
        "id": "x6a6nXoTQPZQ"
      },
      "source": [
        ""
      ],
      "execution_count": null,
      "outputs": []
    }
  ]
}