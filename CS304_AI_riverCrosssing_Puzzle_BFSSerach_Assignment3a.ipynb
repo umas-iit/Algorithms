{
  "nbformat": 4,
  "nbformat_minor": 0,
  "metadata": {
    "colab": {
      "provenance": [],
      "include_colab_link": true
    },
    "kernelspec": {
      "name": "python3",
      "display_name": "Python 3"
    },
    "language_info": {
      "name": "python"
    }
  },
  "cells": [
    {
      "cell_type": "markdown",
      "metadata": {
        "id": "view-in-github",
        "colab_type": "text"
      },
      "source": [
        "<a href=\"https://colab.research.google.com/github/umas-iit/Algorithms/blob/main/CS304_AI_riverCrosssing_Puzzle_BFSSerach_Assignment3a.ipynb\" target=\"_parent\"><img src=\"https://colab.research.google.com/assets/colab-badge.svg\" alt=\"Open In Colab\"/></a>"
      ]
    },
    {
      "cell_type": "code",
      "execution_count": null,
      "metadata": {
        "id": "amXcrtTbjohx"
      },
      "outputs": [],
      "source": []
    },
    {
      "cell_type": "code",
      "source": [
        "from collections import deque\n",
        "\n",
        "# Constants representing the number of missionaries and cannibals\n",
        "NUM_MISSIONARIES = 3\n",
        "NUM_CANNIBALS = 3\n",
        "\n",
        "# Constants representing the sides of the river\n",
        "LEFT_BANK = 'left_bank'\n",
        "RIGHT_BANK = 'right_bank'\n",
        "\n",
        "# Helper function to check if a state is safe\n",
        "def is_safe(state):\n",
        "    missionaries_left = state[0]\n",
        "    cannibals_left = state[1]\n",
        "    missionaries_right = NUM_MISSIONARIES - missionaries_left\n",
        "    cannibals_right = NUM_CANNIBALS - cannibals_left\n",
        "\n",
        "    # Check if cannibals outnumber missionaries on any side\n",
        "    if (cannibals_left > missionaries_left > 0) or (cannibals_right > missionaries_right > 0):\n",
        "        return False\n",
        "    return True\n",
        "\n",
        "# Helper function to generate all possible valid actions\n",
        "def generate_actions(state):\n",
        "    actions = []\n",
        "    missionaries_left = state[0]\n",
        "    cannibals_left = state[1]\n",
        "    boat_location = state[2]\n",
        "\n",
        "    # Generate actions for moving 1 or 2 people from one side to the other\n",
        "    for m in range(3):\n",
        "        for c in range(3):\n",
        "            if 1 <= (m + c) <= 2:\n",
        "                if boat_location == LEFT_BANK:\n",
        "                    new_state = (missionaries_left - m, cannibals_left - c, RIGHT_BANK)\n",
        "                else:\n",
        "                    new_state = (missionaries_left + m, cannibals_left + c, LEFT_BANK)\n",
        "                actions.append(new_state)\n",
        "    return actions\n",
        "\n",
        "# Breadth-First Search algorithm\n",
        "def solve_puzzle():\n",
        "    initial_state = (NUM_MISSIONARIES, NUM_CANNIBALS, LEFT_BANK)\n",
        "    queue = deque()\n",
        "    visited = set()\n",
        "\n",
        "    queue.append(([], initial_state))\n",
        "    visited.add(initial_state)\n",
        "\n",
        "    while queue:\n",
        "        path, state = queue.popleft()\n",
        "\n",
        "        if state == (0, 0, RIGHT_BANK):\n",
        "            return path\n",
        "\n",
        "        for action in generate_actions(state):\n",
        "            if is_safe(action) and action not in visited:\n",
        "                queue.append((path + [action], action))\n",
        "                visited.add(action)\n",
        "\n",
        "    return None\n",
        "\n",
        "# Main function to solve and print the solution\n",
        "def main():\n",
        "    solution = solve_puzzle()\n",
        "    if solution:\n",
        "        print(\"Solution found:\")\n",
        "        for step, state in enumerate(solution):\n",
        "            print(f\"Step {step + 1}: {state}\")\n",
        "    else:\n",
        "        print(\"No solution found.\")\n",
        "\n",
        "if __name__ == '__main__':\n",
        "    main()\n"
      ],
      "metadata": {
        "colab": {
          "base_uri": "https://localhost:8080/"
        },
        "id": "vUixNIRkjpPQ",
        "outputId": "1b71ef48-3184-47c1-8f0d-40f6198af0b1"
      },
      "execution_count": null,
      "outputs": [
        {
          "output_type": "stream",
          "name": "stdout",
          "text": [
            "Solution found:\n",
            "Step 1: (3, 1, 'right_bank')\n",
            "Step 2: (3, 2, 'left_bank')\n",
            "Step 3: (3, 0, 'right_bank')\n",
            "Step 4: (3, 1, 'left_bank')\n",
            "Step 5: (1, 1, 'right_bank')\n",
            "Step 6: (2, 2, 'left_bank')\n",
            "Step 7: (0, 2, 'right_bank')\n",
            "Step 8: (0, 3, 'left_bank')\n",
            "Step 9: (0, 1, 'right_bank')\n",
            "Step 10: (0, 2, 'left_bank')\n",
            "Step 11: (0, 0, 'right_bank')\n"
          ]
        }
      ]
    },
    {
      "cell_type": "markdown",
      "source": [
        "* To solve the problem of the Three Missionaries and Three Cannibals crossing the river safely, we can use a search algorithm known as **Breadth-First Search (BFS)**.\n",
        "* **BFS** systematically explores all possible states of the problem until it finds a solution.\n"
      ],
      "metadata": {
        "id": "xw00r81OkRvS"
      }
    },
    {
      "cell_type": "markdown",
      "source": [
        "**Algorithm to solve the problem:**\n",
        "\n",
        "* Define the initial state, which includes the number of missionaries and cannibals on each side of the river, and the location of the boat.\n",
        "* Create an empty queue to store the states that need to be explored.\n",
        "* Create an empty set to keep track of visited states to avoid redundant exploration.\n",
        "* Enqueue the initial state into the queue.\n",
        "* While the queue is not empty:\n",
        "    \n",
        "    a. Dequeue the next state from the front of the queue.\n",
        "    b.Check if the state is a goal state (all missionaries and cannibals on the opposite side of the river).\n",
        "    - If yes, return the sequence of actions that led to the goal state.\n",
        "    c. Generate all possible valid actions from the current state (moving 1 or 2 people from one side to the other).\n",
        "    d. For each valid action:\n",
        "    - Generate the next state by applying the action to the current state.\n",
        "    - Check if the next state is safe (the cannibals do not outnumber the missionaries on any side).\n",
        "    - If the next state is safe and has not been visited before:\n",
        "    - Enqueue the next state into the queue.\n",
        "    - Mark the next state as visited.\n",
        "    If the queue becomes empty and no solution is found, return failure."
      ],
      "metadata": {
        "id": "5B3SYU6GkhM4"
      }
    },
    {
      "cell_type": "markdown",
      "source": [],
      "metadata": {
        "id": "BQkn5KtCkH6V"
      }
    },
    {
      "cell_type": "markdown",
      "source": [],
      "metadata": {
        "id": "UJfyOs7Kj3OW"
      }
    }
  ]
}