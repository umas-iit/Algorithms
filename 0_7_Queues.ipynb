{
  "nbformat": 4,
  "nbformat_minor": 0,
  "metadata": {
    "colab": {
      "name": "0.7_Queues.ipynb",
      "provenance": [],
      "authorship_tag": "ABX9TyO9Hm6gzBUnX6+Q9vGYhJj0",
      "include_colab_link": true
    },
    "kernelspec": {
      "name": "python3",
      "display_name": "Python 3"
    },
    "language_info": {
      "name": "python"
    }
  },
  "cells": [
    {
      "cell_type": "markdown",
      "metadata": {
        "id": "view-in-github",
        "colab_type": "text"
      },
      "source": [
        "<a href=\"https://colab.research.google.com/github/umas-iit/Algorithms/blob/main/0_7_Queues.ipynb\" target=\"_parent\"><img src=\"https://colab.research.google.com/assets/colab-badge.svg\" alt=\"Open In Colab\"/></a>"
      ]
    },
    {
      "cell_type": "code",
      "metadata": {
        "id": "z93plPPOCfbe"
      },
      "source": [
        ""
      ],
      "execution_count": null,
      "outputs": []
    },
    {
      "cell_type": "markdown",
      "metadata": {
        "id": "HZN6ICdrChJe"
      },
      "source": [
        "## Queue using arrays\n",
        "The queue is a linear data structure where elements are in a sequential manner. It follows the F.I.F.O mechanism that means first in first out. Think when you go to the cinema with your friends, as you can imagine the first of you that give the ticket is also the first that step out of the line. The mechanism of the queue is the same.\n",
        "\n",
        "Below the aspects that characterize a queue.\n",
        "\n",
        "Two ends:\n",
        "\n",
        "1. front → points to starting element\n",
        "2. rear → points to the last element\n",
        "\n",
        "There are two operations:\n",
        "\n",
        "1. enqueue → inserting an element into the queue. It will be done at the rear.\n",
        "2. dequeue → deleting an element from the queue. It will be done at the front.\n",
        "\n",
        "There are two conditions:\n",
        "1. overflow → insertion into a queue that is full\n",
        "2. underflow → deletion from the empty queue\n"
      ]
    },
    {
      "cell_type": "code",
      "metadata": {
        "colab": {
          "base_uri": "https://localhost:8080/"
        },
        "id": "g7T4a6CECvMv",
        "outputId": "98d6b540-a9a7-40ba-eb13-ea0961983746"
      },
      "source": [
        "class myqueue:\n",
        "    \n",
        "    def __init__(self):\n",
        "        self.data = []\n",
        "        \n",
        "    def length(self):\n",
        "        return len(self.data)\n",
        "    \n",
        "    def enque(self, element): # put the element in the queue\n",
        "        if len(self.data) < 5:\n",
        "            return self.data.append(element)\n",
        "        else:\n",
        "            return \"overflow\"\n",
        "        \n",
        "    def deque(self): # remove the first element that we have put in queue\n",
        "        if len(self.data) == 0:\n",
        "             return \"underflow\"\n",
        "        else:\n",
        "            self.data.pop(0)\n",
        "            \n",
        "b = myqueue()\n",
        "b.enque(2) # put the element into the queue\n",
        "b.enque(3)\n",
        "b.enque(4)\n",
        "b.enque(5)\n",
        "print(b.data)\n",
        "b.deque()# # remove the first element that we have put in the queue\n",
        "print(b.data)\n"
      ],
      "execution_count": 2,
      "outputs": [
        {
          "output_type": "stream",
          "text": [
            "[2, 3, 4, 5]\n",
            "[3, 4, 5]\n"
          ],
          "name": "stdout"
        }
      ]
    },
    {
      "cell_type": "code",
      "metadata": {
        "id": "P_EXz3-3CxAD"
      },
      "source": [
        ""
      ],
      "execution_count": null,
      "outputs": []
    }
  ]
}