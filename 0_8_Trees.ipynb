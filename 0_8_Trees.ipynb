{
  "nbformat": 4,
  "nbformat_minor": 0,
  "metadata": {
    "colab": {
      "name": "0.8_Trees.ipynb",
      "provenance": [],
      "authorship_tag": "ABX9TyNacEh6h7V/d0xLytQk3p6t",
      "include_colab_link": true
    },
    "kernelspec": {
      "name": "python3",
      "display_name": "Python 3"
    },
    "language_info": {
      "name": "python"
    }
  },
  "cells": [
    {
      "cell_type": "markdown",
      "metadata": {
        "id": "view-in-github",
        "colab_type": "text"
      },
      "source": [
        "<a href=\"https://colab.research.google.com/github/umas-iit/Algorithms/blob/main/0_8_Trees.ipynb\" target=\"_parent\"><img src=\"https://colab.research.google.com/assets/colab-badge.svg\" alt=\"Open In Colab\"/></a>"
      ]
    },
    {
      "cell_type": "code",
      "metadata": {
        "id": "p4jVYkUrDXGf"
      },
      "source": [
        ""
      ],
      "execution_count": null,
      "outputs": []
    },
    {
      "cell_type": "markdown",
      "metadata": {
        "id": "3yEV0Q6aE5Z_"
      },
      "source": [
        "## Trees\n",
        "The concept of the algorithm has existed since antiquity. In fact, the ancient Egyptians used algorithms to solve their problems. Then they taught this approach to the Greeks.\n",
        "The word algorithm derives itself from the 9th-century Persian mathematician Muḥammad ibn Mūsā al-Khwārizmī, whose name was Latinized as Algorithmi. Al-Khwārizmī was also an astronomer, geographer, and a scholar in the House of Wisdom in Baghdad.\n",
        "As you already know algorithms are instructions that are formulated in a finite and sequential order to solve problems.\n",
        "When we write an algorithm, we have to know what is the exact problem, determine where we need to start and stop and formulate the intermediate steps.\n",
        "There are three main approaches to solve algorithms:\n",
        "\n",
        "1. Divide et Impera (also known as divide and conquer) → it divides the problem into sub-parts and solves each one separately\n",
        "2. Dynamic programming → it divides the problem into sub-parts remembers the results of the sub-parts and applies it to similar ones\n",
        "3. Greedy algorithms → involve taking the easiest step while solving a problem without worrying about the complexity of the future steps\n"
      ]
    },
    {
      "cell_type": "markdown",
      "metadata": {
        "id": "7bduuY9YDXxh"
      },
      "source": [
        "![image.png](data:image/png;base64,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)"
      ]
    },
    {
      "cell_type": "markdown",
      "metadata": {
        "id": "zTr2p7zIDpWb"
      },
      "source": [
        "## Trees"
      ]
    },
    {
      "cell_type": "code",
      "metadata": {
        "id": "15adUNf4Dj2U"
      },
      "source": [
        "# create the class Node and the attrbutes \n",
        "class Node:\n",
        "    def __init__(self, letter):\n",
        "        self.childleft = None\n",
        "        self.childright = None\n",
        "        self.nodedata = letter\n",
        "\n",
        "# create the nodes for the tree\n",
        "root = Node('A')\n",
        "root.childleft = Node('B')\n",
        "root.childright = Node('C')\n",
        "root.childleft.childleft = Node('D')\n",
        "root.childleft.childright = Node('E')"
      ],
      "execution_count": 2,
      "outputs": []
    },
    {
      "cell_type": "code",
      "metadata": {
        "id": "PkjzneyqDq_H"
      },
      "source": [
        ""
      ],
      "execution_count": 2,
      "outputs": []
    },
    {
      "cell_type": "markdown",
      "metadata": {
        "id": "CZ-mrc16FB-r"
      },
      "source": [
        "## Tree Traversal Algorithm\n",
        "Trees in python are non-linear data structures. They are characterized by roots and nodes. I take the class I constructed before for the binary tree.\n",
        "Tree Traversal refers to visiting each node present in the tree exactly once, in order to update or check them."
      ]
    },
    {
      "cell_type": "markdown",
      "metadata": {
        "id": "6AZmG52jFXUn"
      },
      "source": [
        "### There are three types of tree traversals:\n",
        "\n",
        "In-order traversal → refers to visiting the left node, followed by the root and then the right nodes.\n",
        "Here D is the leftmost node where the nearest root is B. The right of root B is E. Now the left sub-tree is completed, so I move towards the root node A and then to node C.\n"
      ]
    },
    {
      "cell_type": "code",
      "metadata": {
        "id": "3GC7Bv7EFdhT",
        "outputId": "8ead8855-5334-4e8f-965b-5b4fa9b9dcaf",
        "colab": {
          "base_uri": "https://localhost:8080/"
        }
      },
      "source": [
        "def InOrd(root):\n",
        "    if root:\n",
        "        InOrd(root.childleft)\n",
        "        print(root.nodedata)\n",
        "        InOrd(root.childright)\n",
        "InOrd(root)"
      ],
      "execution_count": 3,
      "outputs": [
        {
          "output_type": "stream",
          "text": [
            "D\n",
            "B\n",
            "E\n",
            "A\n",
            "C\n"
          ],
          "name": "stdout"
        }
      ]
    },
    {
      "cell_type": "markdown",
      "metadata": {
        "id": "MUULL3_UF6-n"
      },
      "source": [
        "## Pre-order traversal → refers to visiting the root node followed by the left nodes and then the right nodes.\n",
        "In this case, I move to the root node A and then to the left child node B and to the sub child node D. After that I can go to the nodes E and then C.\n"
      ]
    },
    {
      "cell_type": "code",
      "metadata": {
        "id": "zpgwjzwMF_lL",
        "outputId": "e96ae986-dedb-4a96-fabf-8082dbfeda1c",
        "colab": {
          "base_uri": "https://localhost:8080/"
        }
      },
      "source": [
        "def PreOrd(root):\n",
        "    if root:\n",
        "        print(root.nodedata)\n",
        "        PreOrd(root.childleft)\n",
        "        PreOrd(root.childright)\n",
        "PreOrd(root)"
      ],
      "execution_count": 4,
      "outputs": [
        {
          "output_type": "stream",
          "text": [
            "A\n",
            "B\n",
            "D\n",
            "E\n",
            "C\n"
          ],
          "name": "stdout"
        }
      ]
    },
    {
      "cell_type": "code",
      "metadata": {
        "id": "RIZ9EFqaGC8K"
      },
      "source": [
        ""
      ],
      "execution_count": null,
      "outputs": []
    },
    {
      "cell_type": "markdown",
      "metadata": {
        "id": "yXkp1gSDGHbK"
      },
      "source": [
        "## Post-order traversal → \n",
        "refers to visiting the left nodes followed by the right nodes and then the root node\n",
        "I go to the most left node which is D and then to the right node E. Then, I can go from the left node B to the right node C. Finally, I move towards the root node A."
      ]
    },
    {
      "cell_type": "code",
      "metadata": {
        "id": "IBfLiWAcGPfb",
        "outputId": "ec3991af-2d9a-4a78-8871-76e7a6ecaebe",
        "colab": {
          "base_uri": "https://localhost:8080/"
        }
      },
      "source": [
        "def PostOrd(root):\n",
        "    if root:\n",
        "        PostOrd(root.childleft)\n",
        "        PostOrd(root.childright)\n",
        "        print(root.nodedata)\n",
        "PostOrd(root)"
      ],
      "execution_count": 5,
      "outputs": [
        {
          "output_type": "stream",
          "text": [
            "D\n",
            "E\n",
            "B\n",
            "C\n",
            "A\n"
          ],
          "name": "stdout"
        }
      ]
    },
    {
      "cell_type": "code",
      "metadata": {
        "id": "Wyh7eJANGRw8"
      },
      "source": [
        ""
      ],
      "execution_count": null,
      "outputs": []
    }
  ]
}