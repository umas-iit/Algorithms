{
  "nbformat": 4,
  "nbformat_minor": 0,
  "metadata": {
    "colab": {
      "name": "0.10_BubbleSort.ipynb",
      "provenance": [],
      "authorship_tag": "ABX9TyOxJoHcMN6S6Xszt/DMK4XU",
      "include_colab_link": true
    },
    "kernelspec": {
      "name": "python3",
      "display_name": "Python 3"
    },
    "language_info": {
      "name": "python"
    }
  },
  "cells": [
    {
      "cell_type": "markdown",
      "metadata": {
        "id": "view-in-github",
        "colab_type": "text"
      },
      "source": [
        "<a href=\"https://colab.research.google.com/github/umas-iit/Algorithms/blob/main/0_10_BubbleSort.ipynb\" target=\"_parent\"><img src=\"https://colab.research.google.com/assets/colab-badge.svg\" alt=\"Open In Colab\"/></a>"
      ]
    },
    {
      "cell_type": "code",
      "metadata": {
        "id": "-z3WvTWIHVTc"
      },
      "source": [
        ""
      ],
      "execution_count": null,
      "outputs": []
    },
    {
      "cell_type": "markdown",
      "metadata": {
        "id": "jyxsS7eCHaW6"
      },
      "source": [
        "### Bubble Sort\n",
        "\n",
        "Bubble Sort → it first compares and then sorts adjacent elements if they are not in the specified order"
      ]
    },
    {
      "cell_type": "code",
      "metadata": {
        "colab": {
          "base_uri": "https://localhost:8080/"
        },
        "id": "-234cGJ4HlBI",
        "outputId": "576411cc-a354-435c-cba1-38fc1f74578c"
      },
      "source": [
        "def bubble_sort(ourlist): # I create my function bubble_sort with the argument called ourlist\n",
        "    b=len(ourlist)-1 # for every list, I will have a minus 1 iteration\n",
        "    for x in range(b): # for each element in the range of b, I check if they are ordered or not\n",
        "        for y in range(b-x): \n",
        "            if ourlist[y]>ourlist[y+1]: # if one element is greater than the nearest elemnt in the list\n",
        "                ourlist[y],ourlist[y+1]=ourlist[y+1],ourlist[y] # I have to swap the elemnts, in other words\n",
        "                                                          # I exchange the position of the two elements\n",
        "        return ourlist\n",
        "    \n",
        "ourlist=[15,1,9,3]\n",
        "bubble_sort(ourlist)"
      ],
      "execution_count": 1,
      "outputs": [
        {
          "output_type": "execute_result",
          "data": {
            "text/plain": [
              "[1, 9, 3, 15]"
            ]
          },
          "metadata": {
            "tags": []
          },
          "execution_count": 1
        }
      ]
    },
    {
      "cell_type": "code",
      "metadata": {
        "id": "ss_sqqz-HmZv"
      },
      "source": [
        ""
      ],
      "execution_count": null,
      "outputs": []
    }
  ]
}