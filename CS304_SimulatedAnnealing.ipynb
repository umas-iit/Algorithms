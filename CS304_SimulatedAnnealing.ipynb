{
  "nbformat": 4,
  "nbformat_minor": 0,
  "metadata": {
    "colab": {
      "provenance": [],
      "authorship_tag": "ABX9TyPk6yq4poyTO3kpgi++wrQg",
      "include_colab_link": true
    },
    "kernelspec": {
      "name": "python3",
      "display_name": "Python 3"
    },
    "language_info": {
      "name": "python"
    }
  },
  "cells": [
    {
      "cell_type": "markdown",
      "metadata": {
        "id": "view-in-github",
        "colab_type": "text"
      },
      "source": [
        "<a href=\"https://colab.research.google.com/github/umas-iit/Algorithms/blob/main/CS304_SimulatedAnnealing.ipynb\" target=\"_parent\"><img src=\"https://colab.research.google.com/assets/colab-badge.svg\" alt=\"Open In Colab\"/></a>"
      ]
    },
    {
      "cell_type": "code",
      "execution_count": null,
      "metadata": {
        "id": "wFYMWxOMZR7P"
      },
      "outputs": [],
      "source": []
    },
    {
      "cell_type": "markdown",
      "source": [
        "### Simulated annealing\n",
        "* objective_function is a placeholder for your specific objective function that you want to optimize. Modify this function according to your problem.\n",
        "\n",
        "* simulated_annealing is the Simulated Annealing algorithm. It starts with an initial solution and iteratively explores neighboring solutions. It accepts worse solutions with a decreasing probability based on the temperature.\n",
        "\n",
        "* initial_solution is the initial solution where the algorithm starts.\n",
        "\n",
        "* max_iterations is the maximum number of iterations.\n",
        "\n",
        "* initial_temperature is the initial temperature of the annealing process.\n",
        "\n",
        "* cooling_rate determines how fast the temperature decreases. A typical value is between 0.8 and 0.99."
      ],
      "metadata": {
        "id": "WilF6_QXbXYo"
      }
    },
    {
      "cell_type": "code",
      "source": [
        "import math\n",
        "import random\n",
        "\n",
        "def objective_function(x):\n",
        "    # Define the objective function you want to optimize.\n",
        "    # Modify this function according to your specific problem.\n",
        "    return -x**2 + 4*x\n",
        "\n",
        "def simulated_annealing(initial_solution, max_iterations, initial_temperature, cooling_rate):\n",
        "    current_solution = initial_solution\n",
        "    current_value = objective_function(current_solution)\n",
        "    best_solution = current_solution\n",
        "    best_value = current_value\n",
        "    temperature = initial_temperature\n",
        "\n",
        "    for iteration in range(max_iterations):\n",
        "        # Generate a neighboring solution\n",
        "        neighbor_solution = current_solution + random.uniform(-1, 1)\n",
        "        neighbor_value = objective_function(neighbor_solution)\n",
        "\n",
        "        # Calculate the change in objective function value\n",
        "        delta_value = neighbor_value - current_value\n",
        "\n",
        "        # If the neighbor solution is better or accepted with a certain probability, move to it\n",
        "        if delta_value > 0 or random.random() < math.exp(delta_value / temperature):\n",
        "            current_solution = neighbor_solution\n",
        "            current_value = neighbor_value\n",
        "\n",
        "            # Update the best solution if necessary\n",
        "            if current_value > best_value:\n",
        "                best_solution = current_solution\n",
        "                best_value = current_value\n",
        "\n",
        "        # Reduce the temperature\n",
        "        temperature *= cooling_rate\n",
        "\n",
        "    return best_solution, best_value\n",
        "\n",
        "# Parameters for Simulated Annealing\n",
        "initial_solution = random.uniform(0, 4)  # Initial random solution\n",
        "max_iterations = 1000  # Maximum number of iterations\n",
        "initial_temperature = 1.0  # Initial temperature\n",
        "cooling_rate = 0.95  # Cooling rate\n",
        "\n",
        "# Run Simulated Annealing\n",
        "best_solution, best_value = simulated_annealing(initial_solution, max_iterations, initial_temperature, cooling_rate)\n",
        "\n",
        "print(\"Best Solution:\", best_solution)\n",
        "print(\"Best Value:\", best_value)\n"
      ],
      "metadata": {
        "colab": {
          "base_uri": "https://localhost:8080/"
        },
        "id": "gZDtOLXNbqmC",
        "outputId": "28af03b7-ac56-419e-e27f-7f904829712c"
      },
      "execution_count": 1,
      "outputs": [
        {
          "output_type": "stream",
          "name": "stdout",
          "text": [
            "Best Solution: 1.9980035140011794\n",
            "Best Value: 3.9999960140436563\n"
          ]
        }
      ]
    },
    {
      "cell_type": "markdown",
      "source": [],
      "metadata": {
        "id": "CW7uG5r2bz10"
      }
    }
  ]
}